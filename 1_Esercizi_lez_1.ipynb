{
 "cells": [
  {
   "cell_type": "markdown",
   "metadata": {},
   "source": [
    "### **1. Trasformare cicli in list comprehension**\n",
    "\n",
    "Fai tre esempi di cicli producono una lista e poi riscrivi lo stesso codice usando la list comprehension"
   ]
  },
  {
   "cell_type": "code",
   "execution_count": 6,
   "metadata": {},
   "outputs": [
    {
     "name": "stdout",
     "output_type": "stream",
     "text": [
      "List 1: [0, 2, 4, 6, 8]\n",
      "List comprehension 1: [0, 2, 4, 6, 8]\n",
      "List 2: ['a', 'b']\n",
      "List comprehension 2: ['a', 'b']\n",
      "List 3: [0, 1, 4, 9, 16, 25, 36, 49, 64, 81]\n",
      "List comprehension 3: [0, 1, 4, 9, 16, 25, 36, 49, 64, 81]\n"
     ]
    }
   ],
   "source": [
    "list_1=[]\n",
    "for i in range(10):\n",
    "    if i % 2 == 0:\n",
    "        list_1.append(i)\n",
    "list_c_1=[i for i in range(10) if i%2 == 0]\n",
    "\n",
    "list_2=[]\n",
    "for i in ['a', 'b', 'c', 'd']:\n",
    "    if i in ['a', 'b']:\n",
    "        list_2.append(i)\n",
    "list_c_2=[i for i in ['a', 'b', 'c', 'd'] if i in ['a', 'b']]\n",
    "\n",
    "list_3=[]\n",
    "for i in range(10):\n",
    "    list_3.append(i**2)\n",
    "list_c_3=[i**2 for i in range(10)]\n",
    "\n",
    "print(\"List 1:\", list_1)\n",
    "print(\"List comprehension 1:\", list_c_1)    \n",
    "print(\"List 2:\", list_2)\n",
    "print(\"List comprehension 2:\", list_c_2)\n",
    "print(\"List 3:\", list_3)\n",
    "print(\"List comprehension 3:\", list_c_3)"
   ]
  },
  {
   "cell_type": "markdown",
   "metadata": {},
   "source": [
    "### **2. Vettore di Numeri Primi**\n",
    "\n",
    "1. **Crea un vettore** contenente tutti i numeri primi compresi tra **0 e 10**  \n",
    "   _(Puoi scriverli direttamente nell'array)._\n",
    "\n",
    "2. **Conta quanti numeri ci sono nel vettore** utilizzando la funzione `len()`.  **Ottieni lo stesso numero** accedendo all'attributo `.size` del vettore.\n",
    "\n",
    "3. Quale pensi sia il tipo di dato (`dtype`) del vettore?  Prova a rispondere senza eseguire il codice e Verifica la tua risposta accedendo all'attributo `.dtype` del vettore\n",
    "\n",
    "4. Scrivi l'array usando una list comprehension che controlla che i numeri siano primi. "
   ]
  },
  {
   "cell_type": "code",
   "execution_count": 39,
   "metadata": {},
   "outputs": [
    {
     "name": "stdout",
     "output_type": "stream",
     "text": [
      "11 , 11\n",
      "[ 0  1  2  3  4  5  6  7  8  9 10]\n",
      "[np.int64(2), np.int64(3), np.int64(5), np.int64(7)]\n"
     ]
    },
    {
     "data": {
      "text/plain": [
       "8"
      ]
     },
     "execution_count": 39,
     "metadata": {},
     "output_type": "execute_result"
    }
   ],
   "source": [
    "import numpy as np\n",
    "vett=np.arange(0,11)\n",
    "l=len(vett)\n",
    "l_1= vett.size\n",
    "print(l, \",\", l_1)\n",
    "#int\n",
    "print(vett)\n",
    "def isprime(n):\n",
    "    if n <= 1:\n",
    "        return False\n",
    "    for i in range(2, int(n**0.5) + 1):\n",
    "        if n % i == 0:\n",
    "            return False\n",
    "    return True\n",
    "prime=[x for x in vett if isprime(x)]\n",
    "print( prime)\n",
    "int(prime[1]+prime[2])"
   ]
  },
  {
   "cell_type": "markdown",
   "metadata": {},
   "source": [
    "### **3.  Operazioni su array**\n",
    "Crea un array **a**, 1D (senza digitarlo esplicitamente), e genera due nuovi array **b**, contenente una sottostringa a piacere e **c** che è il reverse dell'array **a** (esempio [1,2,3] diventa [3,2,1]) .  Dividi l'array **a** per l'array **c**. Fai la stessa cosa per una lista."
   ]
  },
  {
   "cell_type": "code",
   "execution_count": 69,
   "metadata": {},
   "outputs": [
    {
     "name": "stdout",
     "output_type": "stream",
     "text": [
      "Error XD: unsupported operand type(s) for /: 'list' and 'list'\n"
     ]
    },
    {
     "name": "stderr",
     "output_type": "stream",
     "text": [
      "C:\\Users\\magnm\\AppData\\Local\\Temp\\ipykernel_21084\\1687296146.py:4: RuntimeWarning: divide by zero encountered in divide\n",
      "  vet/c\n"
     ]
    }
   ],
   "source": [
    "vet=np.arange(0,101)\n",
    "b=vet[20:30]\n",
    "c=vet[::-1]\n",
    "vet/c\n",
    "\n",
    "list=[x for x in range(100)]\n",
    "c_1=list[::-1]\n",
    "try:\n",
    "    list/c_1\n",
    "except TypeError as e:\n",
    "    print(\"Error XD:\", e)\n"
   ]
  }
 ],
 "metadata": {
  "kernelspec": {
   "display_name": "myVenv",
   "language": "python",
   "name": "python3"
  },
  "language_info": {
   "codemirror_mode": {
    "name": "ipython",
    "version": 3
   },
   "file_extension": ".py",
   "mimetype": "text/x-python",
   "name": "python",
   "nbconvert_exporter": "python",
   "pygments_lexer": "ipython3",
   "version": "3.13.5"
  }
 },
 "nbformat": 4,
 "nbformat_minor": 2
}
