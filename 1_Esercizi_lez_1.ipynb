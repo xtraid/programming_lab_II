{
 "cells": [
  {
   "cell_type": "markdown",
   "metadata": {},
   "source": [
    "### **1. Trasformare cicli in list comprehension**\n",
    "\n",
    "Fai tre esempi di cicli producono una lista e poi riscrivi lo stesso codice usando la list comprehension"
   ]
  },
  {
   "cell_type": "code",
   "execution_count": 6,
   "metadata": {},
   "outputs": [
    {
     "name": "stdout",
     "output_type": "stream",
     "text": [
      "[0, 1, 2, 3, 4, 5, 6, 7, 8, 9]\n",
      "[0, 1, 2, 3, 4, 5, 6, 7, 8, 9]\n",
      "['p', 'a', 'r', 'o', 'l', 'a']\n",
      "['p', 'a', 'r', 'o', 'l', 'a']\n",
      "[0, 2, 4, 6, 8]\n",
      "[0, 2, 4, 6, 8]\n"
     ]
    }
   ],
   "source": [
    "elements= []\n",
    "for i in range(10):\n",
    "    elements.append(i)\n",
    "\n",
    "elements_compressed = [i for i in range(10)]\n",
    "print(elements)\n",
    "print(elements_compressed)\n",
    "\n",
    "#---------------------------------------------------------------------\n",
    "parola= \"parola\"\n",
    "caratteri = []\n",
    "for letter in parola:\n",
    "    caratteri.append(letter)\n",
    "print(caratteri)\n",
    "\n",
    "caratteri = [letter for letter in parola ]\n",
    "print(caratteri)\n",
    "\n",
    "#---------------------------------------------------------------------\n",
    "elements= []\n",
    "for i in range(10):\n",
    "    if i % 2 == 0:\n",
    "        elements.append(i)\n",
    "\n",
    "print(elements)\n",
    "elements_compressed = [i for i in range(10) if i % 2 == 0]\n",
    "print(elements_compressed)\n",
    "\n"
   ]
  },
  {
   "cell_type": "markdown",
   "metadata": {},
   "source": [
    "### **2. Vettore di Numeri Primi**\n",
    "\n",
    "1. **Crea un vettore** contenente tutti i numeri primi compresi tra **0 e 10**  \n",
    "   _(Puoi scriverli direttamente nell'array)._\n",
    "\n",
    "2. **Conta quanti numeri ci sono nel vettore** utilizzando la funzione `len()`.  **Ottieni lo stesso numero** accedendo all'attributo `.size` del vettore.\n",
    "\n",
    "3. Quale pensi sia il tipo di dato (`dtype`) del vettore?  Prova a rispondere senza eseguire il codice e Verifica la tua risposta accedendo all'attributo `.dtype` del vettore\n",
    "\n",
    "4. Scrivi l'array usando una list comprehension che controlla che i numeri siano primi. "
   ]
  },
  {
   "cell_type": "code",
   "execution_count": 15,
   "metadata": {},
   "outputs": [
    {
     "name": "stdout",
     "output_type": "stream",
     "text": [
      "5\n",
      "5\n",
      "int64\n",
      "[1, 2, 3, 5, 7]\n"
     ]
    }
   ],
   "source": [
    "import numpy as np\n",
    "\n",
    "vett= np.array([1,2,3,5,7])\n",
    "print(len(vett))\n",
    "print(vett.size)\n",
    "# penso siano interi (codifica 64 bit?)\n",
    "print(vett.dtype)\n",
    "def is_prime(n):\n",
    "    if n == 0:\n",
    "        return False\n",
    "    if n== 1:\n",
    "        return True\n",
    "    for i in range(2, n):\n",
    "        if n % i == 0:\n",
    "            return False\n",
    "    return True\n",
    "    \n",
    "vettore = [x for x in range(10) if is_prime(x)==True ]\n",
    "print(vettore)\n"
   ]
  },
  {
   "cell_type": "markdown",
   "metadata": {},
   "source": [
    "### **3.  Operazioni su array**\n",
    "Crea un array **a**, 1D (senza digitarlo esplicitamente), e genera due nuovi array **b**, contenente una sottostringa a piacere e **c** che è il reverse dell'array **a** (esempio [1,2,3] diventa [3,2,1]) .  Dividi l'array **a** per l'array **c**. Fai la stessa cosa per una lista."
   ]
  },
  {
   "cell_type": "code",
   "execution_count": 36,
   "metadata": {},
   "outputs": [
    {
     "name": "stdout",
     "output_type": "stream",
     "text": [
      "[ 7 10  3  6  9  5  2  9  6  4]\n",
      "[6 9 5 2]\n",
      "[ 4  6  9  2  5  9  6  3 10  7]\n",
      "[1.75       1.66666667 0.33333333 3.         1.8        0.55555556\n",
      " 0.33333333 3.         0.6        0.57142857]\n",
      "-----------------------------------------------\n",
      "[9, 6, 10, 9, 9, 6, 5, 7, 8, 7]\n",
      "[9, 9, 6, 5]\n",
      "[7, 8, 7, 5, 6, 9, 9, 10, 6, 9]\n",
      " \n",
      "non ha senso dividere una lista per un'altra\n",
      " \n",
      "[0.77777778 2.         1.66666667 0.71428571 0.25       4.\n",
      " 1.4        0.6        0.5        1.28571429]\n"
     ]
    }
   ],
   "source": [
    "a = np.array([np.random.randint(1, 11) for i in range(10)])\n",
    "print(a)\n",
    "b= a.copy()[3:7]\n",
    "print(b)\n",
    "c=np.array([a.copy()[-i] for i in range(1, 11)])\n",
    "print(c)\n",
    "\n",
    "d=a.copy()/c.copy()\n",
    "print(d)\n",
    "\n",
    "\n",
    "print('-----------------------------------------------')\n",
    "a_base= [np.random.randint(1, 11) for i in range(10)]\n",
    "print(a_base)\n",
    "b_base= a_base.copy()[3:7]\n",
    "print(b_base)\n",
    "c_base=[a_base.copy()[-i] for i in range(1, 11)]\n",
    "print(c_base)\n",
    "#d_base=a_base.copy()/c_base.copy()\n",
    "#non ha senso dividere una lista per un'altra\n",
    "print(' ')\n",
    "print(\"non ha senso dividere una lista per un'altra\")\n",
    "print(' ')\n",
    "\n",
    "print(d_base)"
   ]
  }
 ],
 "metadata": {
  "kernelspec": {
   "display_name": "myVenv",
   "language": "python",
   "name": "python3"
  },
  "language_info": {
   "codemirror_mode": {
    "name": "ipython",
    "version": 3
   },
   "file_extension": ".py",
   "mimetype": "text/x-python",
   "name": "python",
   "nbconvert_exporter": "python",
   "pygments_lexer": "ipython3",
   "version": "3.13.3"
  }
 },
 "nbformat": 4,
 "nbformat_minor": 2
}
