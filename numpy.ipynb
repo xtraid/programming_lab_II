{
 "cells": [
  {
   "cell_type": "code",
   "execution_count": 7,
   "metadata": {},
   "outputs": [],
   "source": [
    "import numpy as np"
   ]
  },
  {
   "cell_type": "markdown",
   "metadata": {},
   "source": [
    "Using a NumPy function, how would you create a one-dimensional NumPy array of the numbers from 10 to 100, counting by 10?"
   ]
  },
  {
   "cell_type": "code",
   "execution_count": 8,
   "metadata": {},
   "outputs": [
    {
     "name": "stdout",
     "output_type": "stream",
     "text": [
      "[ 10  20  30  40  50  60  70  80  90 100]\n"
     ]
    }
   ],
   "source": [
    "arr=np.arange(10,110,10) #per generere vettori non va bene lo slicing bisogna usare arrange\n",
    "print(arr)"
   ]
  },
  {
   "cell_type": "markdown",
   "metadata": {},
   "source": [
    "How could you create the same NumPy array using a Python range and a list?\n",
    "\n"
   ]
  },
  {
   "cell_type": "code",
   "execution_count": 9,
   "metadata": {},
   "outputs": [
    {
     "name": "stdout",
     "output_type": "stream",
     "text": [
      "[ 10  20  30  40  50  60  70  80  90 100]\n"
     ]
    }
   ],
   "source": [
    "arr2=np.array([x for x in range(10,110,10)]) # oppure si può usare la comprensione di lista\n",
    "print(arr2)"
   ]
  },
  {
   "cell_type": "markdown",
   "metadata": {},
   "source": [
    "What happens if you pass no arguments to the np.array()?\n",
    "\n"
   ]
  },
  {
   "cell_type": "code",
   "execution_count": 10,
   "metadata": {},
   "outputs": [
    {
     "ename": "NameError",
     "evalue": "name 'nparray' is not defined",
     "output_type": "error",
     "traceback": [
      "\u001b[31m---------------------------------------------------------------------------\u001b[39m",
      "\u001b[31mNameError\u001b[39m                                 Traceback (most recent call last)",
      "\u001b[36mCell\u001b[39m\u001b[36m \u001b[39m\u001b[32mIn[10]\u001b[39m\u001b[32m, line 1\u001b[39m\n\u001b[32m----> \u001b[39m\u001b[32m1\u001b[39m a=\u001b[43mnparray\u001b[49m()\n",
      "\u001b[31mNameError\u001b[39m: name 'nparray' is not defined"
     ]
    }
   ],
   "source": [
    "a=nparray()"
   ]
  },
  {
   "cell_type": "markdown",
   "metadata": {},
   "source": [
    "How might you create a NumPy array of the capital letters, A-Z?\n",
    "\n"
   ]
  },
  {
   "cell_type": "code",
   "execution_count": null,
   "metadata": {},
   "outputs": [
    {
     "name": "stdout",
     "output_type": "stream",
     "text": [
      "['A' 'B' 'C' 'D' 'E' 'F' 'G' 'H' 'I' 'J' 'K' 'L' 'M' 'N' 'O' 'P' 'Q' 'R'\n",
      " 'S' 'T' 'U' 'V' 'W' 'X' 'Y' 'Z']\n",
      "\n",
      "\n",
      "['A' 'B' 'C' 'D' 'E' 'F' 'G' 'H' 'I' 'J' 'K' 'L' 'M' 'N' 'O' 'P' 'Q' 'R'\n",
      " 'S' 'T' 'U' 'V' 'W' 'X' 'Y' 'Z']\n"
     ]
    }
   ],
   "source": [
    "from string import ascii_uppercase\n",
    "print(np.array(list(ascii_uppercase)))\n",
    "#oppure\n",
    "print(\"\\n\")\n",
    "print(np.array([chr(i) for i in range( ord('A'), ord('Z')+1)]))"
   ]
  },
  {
   "cell_type": "markdown",
   "metadata": {},
   "source": [
    "How would you create a ten-element NumPy array object of all zeros?\n",
    "\n"
   ]
  },
  {
   "cell_type": "code",
   "execution_count": null,
   "metadata": {},
   "outputs": [
    {
     "name": "stdout",
     "output_type": "stream",
     "text": [
      "[0. 0. 0. 0. 0. 0. 0. 0. 0. 0.]\n"
     ]
    }
   ],
   "source": [
    "zeros=np.zeros(10)\n",
    "print(zeros)"
   ]
  },
  {
   "cell_type": "markdown",
   "metadata": {},
   "source": [
    "How would you find the data type given in #4.\n",
    "\n",
    "What is the data type for #4?"
   ]
  },
  {
   "cell_type": "code",
   "execution_count": null,
   "metadata": {},
   "outputs": [
    {
     "name": "stdout",
     "output_type": "stream",
     "text": [
      "<U1\n",
      "float64\n"
     ]
    }
   ],
   "source": [
    "#.dtype per vedere che tipo di dato\n",
    "a=np.array([chr(i) for i in range( ord('A'), ord('Z')+1)])\n",
    "print(a.dtype)\n",
    "b=np.zeros(10)\n",
    "print(b.dtype)"
   ]
  },
  {
   "cell_type": "markdown",
   "metadata": {},
   "source": [
    "What function would return the same number of elements, but of all ones?\n",
    "\n"
   ]
  },
  {
   "cell_type": "code",
   "execution_count": 13,
   "metadata": {},
   "outputs": [
    {
     "name": "stdout",
     "output_type": "stream",
     "text": [
      "[1. 1. 1. 1. 1. 1. 1.]\n"
     ]
    }
   ],
   "source": [
    "a= np.ones(7)\n",
    "print(a)"
   ]
  },
  {
   "cell_type": "markdown",
   "metadata": {},
   "source": [
    "How could you create a ten-element array of random integers between 1 and 5 (inclusive)?\n",
    "\n"
   ]
  },
  {
   "cell_type": "code",
   "execution_count": 29,
   "metadata": {},
   "outputs": [
    {
     "name": "stdout",
     "output_type": "stream",
     "text": [
      "[1 3 5 3 4 3 3 4 3 1]\n"
     ]
    }
   ],
   "source": [
    "vett=np.random.randint(1,6,10)\n",
    "print(vett)"
   ]
  },
  {
   "cell_type": "markdown",
   "metadata": {},
   "source": [
    "How can you create a normal distribution of 10 numbers, centered on 5?\n",
    "\n"
   ]
  },
  {
   "cell_type": "code",
   "execution_count": 33,
   "metadata": {},
   "outputs": [
    {
     "name": "stdout",
     "output_type": "stream",
     "text": [
      "[4.31410787 5.27347632 5.03062612 4.24859203 3.98988914 4.91271281\n",
      " 5.63377773 6.66045189 3.89237109 4.44940538]\n"
     ]
    }
   ],
   "source": [
    "a=np.random.normal(5,1,10)\n",
    "print(a)"
   ]
  },
  {
   "cell_type": "markdown",
   "metadata": {},
   "source": [
    "What code would create an array of 10 random numbers between zero and one?\n",
    "\n"
   ]
  },
  {
   "cell_type": "code",
   "execution_count": 34,
   "metadata": {},
   "outputs": [
    {
     "name": "stdout",
     "output_type": "stream",
     "text": [
      "[0.98040908 0.47769487 0.22975995 0.66923525 0.16226129 0.87774512\n",
      " 0.54217745 0.11516715 0.68513342 0.9322248 ]\n"
     ]
    }
   ],
   "source": [
    "a=np.random.rand(10)\n",
    "print(a)"
   ]
  },
  {
   "cell_type": "markdown",
   "metadata": {},
   "source": [
    "Consider the code: np.ones((3,5)). Does this A) create an array of three arrays containing five elements each or B) create an array of five arrays containing three elements each?\n",
    "\n"
   ]
  },
  {
   "cell_type": "code",
   "execution_count": 36,
   "metadata": {},
   "outputs": [
    {
     "name": "stdout",
     "output_type": "stream",
     "text": [
      "[[1. 1. 1. 1. 1.]\n",
      " [1. 1. 1. 1. 1.]\n",
      " [1. 1. 1. 1. 1.]]\n"
     ]
    }
   ],
   "source": [
    "a=np.ones((3,5)) #matrice 3x4\n",
    "print(a)"
   ]
  },
  {
   "cell_type": "markdown",
   "metadata": {},
   "source": [
    "Consider an array named “myarray” that is displayed as in the block below. What value does the code myarray[1,2] return? A) 10 B) 7.\n",
    "\n",
    "Given myarray as shown above, what is the value of myarray.ndim?\n",
    "\n"
   ]
  },
  {
   "cell_type": "code",
   "execution_count": 42,
   "metadata": {},
   "outputs": [
    {
     "name": "stdout",
     "output_type": "stream",
     "text": [
      "[[ 1  2  3  4]\n",
      " [ 5  6  7  8]\n",
      " [ 9 10 11 12]]\n",
      "7\n",
      "il valore di .nmdim è:  2\n"
     ]
    }
   ],
   "source": [
    "myarray=np.array([[ 1,  2,  3,  4],\n",
    "                  [ 5,  6,  7,  8],\n",
    "                  [ 9, 10, 11, 12]])\n",
    "print(myarray)\n",
    "print(myarray[1][2])  # Stampa la forma della matrice (3, 4)\n",
    "print(\"il valore di .nmdim è: \", myarray.ndim)  # Stampa il numero di dimensioni della matrice"
   ]
  },
  {
   "cell_type": "markdown",
   "metadata": {},
   "source": [
    "An array of three arrays of four elements each like this has twelve elements, of course. How could you create a new array consisting of two arrays of six elements each?\n",
    "\n",
    "Given new_array from the last exercise, and the code x = new_array, you run the code:\n",
    "\n"
   ]
  },
  {
   "cell_type": "code",
   "execution_count": 112,
   "metadata": {},
   "outputs": [
    {
     "name": "stdout",
     "output_type": "stream",
     "text": [
      "[[ 7  2  9  4  5  4]\n",
      " [10  2  8  6  1  9]]\n",
      "\n",
      "\n",
      "[[ 7  2  9  4]\n",
      " [ 5  4 10  2]\n",
      " [ 8  6  1  9]]\n",
      "\n",
      "\n",
      "[[ 7  2  9  4]\n",
      " [ 5  4 10  2]\n",
      " [ 8  6  1  9]]\n",
      "\n",
      "\n",
      "[[  7   2   9   4]\n",
      " [  5   4 100   2]\n",
      " [  8   6   1   9]]\n",
      "\n",
      "\n",
      "[[  7   2   9   4]\n",
      " [  5   4 100   2]\n",
      " [  8   6   1   9]]\n",
      "NB che x e b sono la stessa matrice, quindi modificando x si modifica anche b\n"
     ]
    }
   ],
   "source": [
    "a = np.random.randint(1, 11, size=(2, 6))  # Matrice 2x6 con int casuali 1-104,3\n",
    "print(a)\n",
    "b=a.reshape(3,4)\n",
    "print(\"\\n\")\n",
    "print(b)  # Stampa la matrice 3x4\n",
    "x=b\n",
    "print(\"\\n\")\n",
    "\n",
    "print(x)\n",
    "print(\"\\n\")\n",
    "\n",
    "x[1][2]=100 \n",
    "print(b)  # Stampa la matrice 3x4\n",
    "# Modifica il valore in posizione (1, 2) a 100\n",
    "print(\"\\n\")\n",
    "\n",
    "print(x)  # Stampa la matrice dopo la modifica\n",
    "\n",
    "print(\"NB che x e b sono la stessa matrice, quindi modificando x si modifica anche b\")"
   ]
  },
  {
   "cell_type": "markdown",
   "metadata": {},
   "source": [
    "How could you create a two-dimensional, 3 x 4 array (three arrays of four elements each) with random numbers from 1 to 10?\n",
    "\n"
   ]
  },
  {
   "cell_type": "code",
   "execution_count": 115,
   "metadata": {},
   "outputs": [
    {
     "name": "stdout",
     "output_type": "stream",
     "text": [
      "[[ 5  5  2  6  1 10]\n",
      " [ 9  1  2  4 10  1]]\n",
      "\n",
      "\n",
      "[[ 5  5  2  6]\n",
      " [ 1 10  9  1]\n",
      " [ 2  4 10  1]]\n",
      "\n",
      "\n",
      "[[ 5  5  2  6]\n",
      " [ 1 10  9  1]\n",
      " [ 2  4 10  1]]\n",
      "\n",
      "\n",
      "[[  5   5   2   6]\n",
      " [  1  10 100   1]\n",
      " [  2   4  10   1]]\n",
      "NB che c'è una copia di b, quindi modificando c non si modifica b :)\n"
     ]
    }
   ],
   "source": [
    "a = np.random.randint(1, 11, size=(2, 6))  # Matrice 2x6 con int casuali 1-104,3\n",
    "print(a)\n",
    "b=a.reshape(3,4)\n",
    "c=b.copy()  # Crea una copia di b\n",
    "print(\"\\n\")\n",
    "print(c)  # Stampa la matrice 3x4\n",
    "# Modifica il valore in posizione (1, 2) a 100\n",
    "c[1][2]=100\n",
    "print(\"\\n\")\n",
    "print(b)  # Stampa la matrice 3x4\n",
    "print(\"\\n\")\n",
    "print(c)  # Stampa la matrice dopo la modifica\n",
    "# Modifica il valore in posizione (1, 2) a 100\n",
    "print(\"NB che c'è una copia di b, quindi modificando c non si modifica b :)\")\n"
   ]
  },
  {
   "cell_type": "markdown",
   "metadata": {},
   "source": [
    "How could you create a two-dimensional, 3 x 4 array (three arrays of four elements each) with random numbers from 1 to 10?\n",
    "\n",
    "\n",
    "\n",
    "How could you create an array of the same size and shape as #17, filled with 64-bit integer zeros?\n",
    "\n",
    "\n",
    "\n"
   ]
  },
  {
   "cell_type": "code",
   "execution_count": null,
   "metadata": {},
   "outputs": [
    {
     "name": "stdout",
     "output_type": "stream",
     "text": [
      "[[ 7  9  5 10]\n",
      " [ 8  9  4  1]\n",
      " [ 8  8  8  9]]\n",
      "[[0 0 0 0]\n",
      " [0 0 0 0]\n",
      " [0 0 0 0]]\n"
     ]
    }
   ],
   "source": [
    "values = np.random.randint(1, 11, (3,4))\n",
    "print(values)\n",
    "zero=np.zeros(dtype=np.int64, shape=(3,4) )  # Crea una matrice di zeri con la stessa forma di values\n",
    "print(zero)\n"
   ]
  },
  {
   "cell_type": "markdown",
   "metadata": {},
   "source": [
    "Given this code:"
   ]
  },
  {
   "cell_type": "code",
   "execution_count": 120,
   "metadata": {},
   "outputs": [],
   "source": [
    "z_list = [z for z in range(0,5)]\n",
    "y_list = [z_list for y in range(0,4)]\n",
    "x_list = [y_list for x in range(0,3)]\n",
    "\n",
    "x_array = np.array(x_list)"
   ]
  },
  {
   "cell_type": "markdown",
   "metadata": {},
   "source": [
    "What would the value of x_array.shape be?\n",
    "\n",
    "Given x_array from #19, what is the value for x_array.ndim?"
   ]
  },
  {
   "cell_type": "code",
   "execution_count": 132,
   "metadata": {},
   "outputs": [
    {
     "name": "stdout",
     "output_type": "stream",
     "text": [
      "(3, 4, 5)\n",
      "3\n"
     ]
    }
   ],
   "source": [
    "print(x_array.shape)\n",
    "print(x_array.ndim)  # Stampa il numero di dimensioni della matrice"
   ]
  },
  {
   "cell_type": "markdown",
   "metadata": {},
   "source": [
    "Given an array, named \"arr”, that looks like:\n",
    "\n",
    "How could you display an array that looks like:\n",
    "\n"
   ]
  },
  {
   "cell_type": "code",
   "execution_count": null,
   "metadata": {},
   "outputs": [],
   "source": [
    "arr=np.array([[0, 1, 2],\n",
    "              [3, 4, 5]])\n",
    "\n",
    "arr1=np.array([[0, 3],\n",
    "               [1, 4],\n",
    "               [2, 5]])"
   ]
  },
  {
   "cell_type": "code",
   "execution_count": 136,
   "metadata": {},
   "outputs": [
    {
     "name": "stdout",
     "output_type": "stream",
     "text": [
      "[[0 3]\n",
      " [1 4]\n",
      " [2 5]]\n"
     ]
    }
   ],
   "source": [
    "arr=np.array([[0, 1, 2],\n",
    "              [3, 4, 5]])\n",
    "\n",
    "arr2=arr.T\n",
    "print(arr2)"
   ]
  },
  {
   "cell_type": "markdown",
   "metadata": {},
   "source": [
    "use this array\n"
   ]
  },
  {
   "cell_type": "code",
   "execution_count": 138,
   "metadata": {},
   "outputs": [],
   "source": [
    "four_by_five=np.array([[ 1,  2,  3,  4,  5],\n",
    "                       [ 6,  7,  8,  9, 10],\n",
    "                       [11, 12, 13, 14, 15],\n",
    "                       [16, 17, 18, 19, 20]])"
   ]
  },
  {
   "cell_type": "markdown",
   "metadata": {},
   "source": [
    "Write a statement that prints the first row. "
   ]
  },
  {
   "cell_type": "code",
   "execution_count": 139,
   "metadata": {},
   "outputs": [
    {
     "name": "stdout",
     "output_type": "stream",
     "text": [
      "[1 2 3 4 5]\n"
     ]
    }
   ],
   "source": [
    "print(four_by_five[0])"
   ]
  },
  {
   "cell_type": "markdown",
   "metadata": {},
   "source": [
    "Write an expression to print the last row. (It will be a five-element array).\n",
    "\n"
   ]
  },
  {
   "cell_type": "code",
   "execution_count": 140,
   "metadata": {},
   "outputs": [
    {
     "name": "stdout",
     "output_type": "stream",
     "text": [
      "[16 17 18 19 20]\n"
     ]
    }
   ],
   "source": [
    "print(four_by_five[-1])"
   ]
  },
  {
   "cell_type": "markdown",
   "metadata": {},
   "source": [
    "What does print(four_by_five[2,3]) display?\n",
    "\n"
   ]
  },
  {
   "cell_type": "code",
   "execution_count": 146,
   "metadata": {},
   "outputs": [
    {
     "name": "stdout",
     "output_type": "stream",
     "text": [
      "14\n",
      "14\n"
     ]
    }
   ],
   "source": [
    "print(four_by_five[2,3])\n",
    "print(four_by_five[2][3])\n"
   ]
  },
  {
   "cell_type": "markdown",
   "metadata": {},
   "source": [
    "How could you display the first column? It will be a (four-element array ending with 16.)\n",
    "\n"
   ]
  },
  {
   "cell_type": "code",
   "execution_count": null,
   "metadata": {},
   "outputs": [
    {
     "name": "stdout",
     "output_type": "stream",
     "text": [
      "[ 1  6 11 16]\n",
      "\n",
      "\n",
      "[[ 4  5]\n",
      " [ 9 10]\n",
      " [14 15]\n",
      " [19 20]]\n",
      "\n",
      "\n",
      "[[ 9 10]\n",
      " [14 15]]\n"
     ]
    }
   ],
   "source": [
    "print(four_by_five[:,0])\n",
    "print(\"\\n\")\n",
    "print(four_by_five[:, 3:])# stampa tutte le righe della colonna 3 in poi\n",
    "print(\"\\n\")\n",
    "print(four_by_five[1:3, 3:])# stampa le righe 1 e 2 della colonna 3 in poi\n"
   ]
  },
  {
   "cell_type": "markdown",
   "metadata": {},
   "source": [
    "To keep it simple, let’s use a small one-dimensional array to begin. For exercises #28-36, use the one-dimensional array shown below:"
   ]
  },
  {
   "cell_type": "code",
   "execution_count": 164,
   "metadata": {},
   "outputs": [
    {
     "data": {
      "text/plain": [
       "array([1, 2, 3, 4, 5])"
      ]
     },
     "execution_count": 164,
     "metadata": {},
     "output_type": "execute_result"
    }
   ],
   "source": [
    "one_dim = np.arange(1,6)\n",
    "one_dim\n",
    "\n"
   ]
  },
  {
   "cell_type": "markdown",
   "metadata": {},
   "source": [
    "What would be displayed by"
   ]
  },
  {
   "cell_type": "code",
   "execution_count": null,
   "metadata": {},
   "outputs": [
    {
     "name": "stdout",
     "output_type": "stream",
     "text": [
      "[ 2  4  6  8 10]\n"
     ]
    }
   ],
   "source": [
    "print(one_dim * 2)\n",
    "#è sveglio il bro"
   ]
  },
  {
   "cell_type": "markdown",
   "metadata": {},
   "source": [
    "What would be returned by this expression"
   ]
  },
  {
   "cell_type": "code",
   "execution_count": 169,
   "metadata": {},
   "outputs": [
    {
     "name": "stdout",
     "output_type": "stream",
     "text": [
      "[6 6 6 6 6]\n",
      "[0 0 0 0 0]\n"
     ]
    }
   ],
   "source": [
    "print(one_dim + np.arange(5, 0, -1))\n",
    "print(one_dim - one_dim)"
   ]
  },
  {
   "cell_type": "code",
   "execution_count": 170,
   "metadata": {},
   "outputs": [
    {
     "data": {
      "text/plain": [
       "array([False, False,  True,  True,  True])"
      ]
     },
     "execution_count": 170,
     "metadata": {},
     "output_type": "execute_result"
    }
   ],
   "source": [
    "one_dim > 2"
   ]
  },
  {
   "cell_type": "markdown",
   "metadata": {},
   "source": [
    "For NumPy arrays, logical operations are done with the operators “&” and “|”, rather than the usual Python “and” and “or”. Given that, what would be the result of this expression?"
   ]
  },
  {
   "cell_type": "code",
   "execution_count": 171,
   "metadata": {},
   "outputs": [
    {
     "data": {
      "text/plain": [
       "array([ True, False, False, False,  True])"
      ]
     },
     "execution_count": 171,
     "metadata": {},
     "output_type": "execute_result"
    }
   ],
   "source": [
    "(one_dim > 4) | (one_dim == 1)"
   ]
  },
  {
   "cell_type": "code",
   "execution_count": null,
   "metadata": {},
   "outputs": [
    {
     "data": {
      "text/plain": [
       "array([-1, -2, -3, -4, -5])"
      ]
     },
     "execution_count": 180,
     "metadata": {},
     "output_type": "execute_result"
    }
   ],
   "source": [
    "-one_dim"
   ]
  },
  {
   "cell_type": "markdown",
   "metadata": {},
   "source": [
    "np.absolute take the absolute value of each element. Given that, what would the result be of the following exp"
   ]
  },
  {
   "cell_type": "code",
   "execution_count": 175,
   "metadata": {},
   "outputs": [
    {
     "name": "stdout",
     "output_type": "stream",
     "text": [
      "[4 5]\n"
     ]
    }
   ],
   "source": [
    "print(np.absolute(-(one_dim[3:])))"
   ]
  },
  {
   "cell_type": "markdown",
   "metadata": {},
   "source": [
    "This exercise shows the use of one of NumPy’s sequence functions, which operate on the whole array rather than per element. What is returned by one_dim.sum()"
   ]
  },
  {
   "cell_type": "code",
   "execution_count": 176,
   "metadata": {},
   "outputs": [
    {
     "data": {
      "text/plain": [
       "np.int64(15)"
      ]
     },
     "execution_count": 176,
     "metadata": {},
     "output_type": "execute_result"
    }
   ],
   "source": [
    "one_dim.sum()"
   ]
  },
  {
   "cell_type": "markdown",
   "metadata": {},
   "source": [
    "Break out those pictures of the unit circle for this one, for some trigonometry so simple an ex-history major can do it – well at least I can on a good day.\n",
    "\n",
    "As background, we can round numbers to a decimal precision using np.around(arr, num_decimals), and get the sine of an angle (in radians) using np.sin. So with that, given the following array of angles in radians:\n",
    "\n",
    "arr = np.array([0., .5, 1.0, 1.5, 2.0]) * np.pi\n",
    "\n",
    "What does the following display:\n",
    "\n",
    "print(np.int32(np.sin(arr)))"
   ]
  },
  {
   "cell_type": "code",
   "execution_count": null,
   "metadata": {},
   "outputs": [
    {
     "name": "stdout",
     "output_type": "stream",
     "text": [
      "[ 0.0000000e+00  1.0000000e+00  1.2246468e-16 -1.0000000e+00\n",
      " -2.4492936e-16]\n"
     ]
    }
   ],
   "source": [
    "arr = np.array([0., .5, 1.0, 1.5, 2.0]) * np.pi\n",
    "print(np.sin(arr))  # Calcola il seno degli elementi dell'array"
   ]
  },
  {
   "cell_type": "code",
   "execution_count": 179,
   "metadata": {},
   "outputs": [
    {
     "name": "stdout",
     "output_type": "stream",
     "text": [
      "[ 0  1  0 -1  0]\n"
     ]
    }
   ],
   "source": [
    "print(np.int32(np.sin(arr)))\n"
   ]
  }
 ],
 "metadata": {
  "colab": {
   "authorship_tag": "ABX9TyNirp4qmvWDOReJwzWAH3Um",
   "provenance": []
  },
  "kernelspec": {
   "display_name": "myVenv",
   "language": "python",
   "name": "python3"
  },
  "language_info": {
   "codemirror_mode": {
    "name": "ipython",
    "version": 3
   },
   "file_extension": ".py",
   "mimetype": "text/x-python",
   "name": "python",
   "nbconvert_exporter": "python",
   "pygments_lexer": "ipython3",
   "version": "3.13.3"
  }
 },
 "nbformat": 4,
 "nbformat_minor": 0
}
